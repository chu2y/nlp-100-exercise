{
 "cells": [
  {
   "cell_type": "code",
   "outputs": [
    {
     "data": {
      "text/plain": "'edcba'"
     },
     "execution_count": 3,
     "metadata": {},
     "output_type": "execute_result"
    }
   ],
   "source": [
    "# 00\n",
    "test_str = \"abcde\"\n",
    "test_str[::-1]"
   ],
   "metadata": {
    "collapsed": false,
    "ExecuteTime": {
     "end_time": "2024-03-29T08:26:09.867783Z",
     "start_time": "2024-03-29T08:26:09.861097Z"
    }
   },
   "id": "c8a7b900264ed875",
   "execution_count": 3
  },
  {
   "cell_type": "code",
   "outputs": [
    {
     "data": {
      "text/plain": "'shoe'"
     },
     "execution_count": 4,
     "metadata": {},
     "output_type": "execute_result"
    }
   ],
   "source": [
    "# 01\n",
    "test_str = \"schooled\"\n",
    "\"\".join([test_str[i] for i in range(0, len(test_str), 2)])"
   ],
   "metadata": {
    "collapsed": false,
    "ExecuteTime": {
     "end_time": "2024-03-29T08:29:00.083948Z",
     "start_time": "2024-03-29T08:29:00.077267Z"
    }
   },
   "id": "a0c9454d32ecfb34",
   "execution_count": 4
  },
  {
   "cell_type": "code",
   "outputs": [
    {
     "data": {
      "text/plain": "'schooled3'"
     },
     "execution_count": 8,
     "metadata": {},
     "output_type": "execute_result"
    }
   ],
   "source": [
    "# 02\n",
    "one_str = \"shoe\"\n",
    "another_str = \"cold\"\n",
    "min_len = min(len(one_str), len(another_str))\n",
    "concatenated_str = \"\"\n",
    "for i in range(min_len):\n",
    "    concatenated_str += one_str[i]\n",
    "    concatenated_str += another_str[i]\n",
    "if len(one_str) < len(another_str):\n",
    "    concatenated_str += another_str[min_len:]\n",
    "elif len(one_str) > len(another_str):\n",
    "    concatenated_str += one_str[min_len:]\n",
    "else:\n",
    "    pass\n",
    "concatenated_str"
   ],
   "metadata": {
    "collapsed": false,
    "ExecuteTime": {
     "end_time": "2024-03-29T08:38:10.385081Z",
     "start_time": "2024-03-29T08:38:10.375498Z"
    }
   },
   "id": "1691a718e9e8c27",
   "execution_count": 8
  },
  {
   "cell_type": "code",
   "outputs": [
    {
     "name": "stdout",
     "output_type": "stream",
     "text": [
      "['Now', 'I', 'need', 'a', 'drink', 'alcoholic', 'of', 'course', 'after', 'the', 'heavy', 'lectures', 'involving', 'quantum', 'mechanics']\n"
     ]
    },
    {
     "data": {
      "text/plain": "[3, 1, 4, 1, 5, 9, 2, 6, 5, 3, 5, 8, 9, 7, 9]"
     },
     "execution_count": 15,
     "metadata": {},
     "output_type": "execute_result"
    }
   ],
   "source": [
    "# 03\n",
    "\n",
    "sentence = \"Now I need a drink, alcoholic of course, after the heavy lectures involving quantum mechanics\"\n",
    "sentence = sentence.replace(\",\", \" \")\n",
    "word_list = sentence.split(\" \")\n",
    "word_list = list(filter(lambda x: x != \"\", word_list))\n",
    "alphabetical_count_list = [len(word) for word in word_list]\n",
    "alphabetical_count_list"
   ],
   "metadata": {
    "collapsed": false,
    "ExecuteTime": {
     "end_time": "2024-03-29T08:51:57.655085Z",
     "start_time": "2024-03-29T08:51:57.645252Z"
    }
   },
   "id": "33306f9daf0f6cd8",
   "execution_count": 15
  },
  {
   "cell_type": "code",
   "outputs": [
    {
     "data": {
      "text/plain": "{'H': 1,\n 'He': 2,\n 'Li': 3,\n 'Be': 4,\n 'B': 5,\n 'C': 6,\n 'N': 7,\n 'O': 8,\n 'F': 9,\n 'Ne': 10,\n 'Na': 11,\n 'Mi': 12,\n 'Al': 13,\n 'Si': 14,\n 'P': 15,\n 'S': 16,\n 'Cl': 17,\n 'Ar': 18,\n 'K': 19,\n 'Ca': 20}"
     },
     "execution_count": 19,
     "metadata": {},
     "output_type": "execute_result"
    }
   ],
   "source": [
    "# 04\n",
    "import re\n",
    "sentence =\"Hi He Lied Because Boron Could Not Oxidize Fluorine. New Nations Might Also Sign Peace Security Clause. Arthur King Can\"\n",
    "word_list = re.split(r\"[ ,.]\", sentence)\n",
    "word_list = list(filter(lambda x: x != \"\", word_list))\n",
    "first_letter_index_list = [1, 5, 6, 7, 8, 9,15,16,19]\n",
    "str2pos = {}\n",
    "for i, word in enumerate(word_list):\n",
    "    if i + 1 in first_letter_index_list:\n",
    "        str2pos[word[:1]] = i + 1\n",
    "    else:\n",
    "        str2pos[word[:2]] = i + 1\n",
    "assert len(str2pos) != word_list\n",
    "str2pos\n"
   ],
   "metadata": {
    "collapsed": false,
    "ExecuteTime": {
     "end_time": "2024-03-29T09:03:45.464686Z",
     "start_time": "2024-03-29T09:03:45.453946Z"
    }
   },
   "id": "e59c533ea53c0f8d",
   "execution_count": 19
  },
  {
   "cell_type": "code",
   "outputs": [],
   "source": [],
   "metadata": {
    "collapsed": false
   },
   "id": "a355e73cab32988f"
  }
 ],
 "metadata": {
  "kernelspec": {
   "display_name": "Python 3",
   "language": "python",
   "name": "python3"
  },
  "language_info": {
   "codemirror_mode": {
    "name": "ipython",
    "version": 2
   },
   "file_extension": ".py",
   "mimetype": "text/x-python",
   "name": "python",
   "nbconvert_exporter": "python",
   "pygments_lexer": "ipython2",
   "version": "2.7.6"
  }
 },
 "nbformat": 4,
 "nbformat_minor": 5
}
